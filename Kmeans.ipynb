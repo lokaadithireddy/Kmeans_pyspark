{
 "cells": [
  {
   "cell_type": "code",
   "execution_count": 1,
   "metadata": {},
   "outputs": [],
   "source": [
    "import numpy as np\n",
    "import pandas as pd\n",
    "import timeit\n",
    "from pyspark import SparkContext\n",
    "from pyspark import SQLContext\n",
    "from PIL import Image\n",
    "import matplotlib.pyplot as plt\n",
    "import sys"
   ]
  },
  {
   "cell_type": "code",
   "execution_count": 2,
   "metadata": {},
   "outputs": [],
   "source": [
    "#from scipy.spatial import distance"
   ]
  },
  {
   "cell_type": "code",
   "execution_count": 2,
   "metadata": {},
   "outputs": [],
   "source": [
    "sc = SparkContext()"
   ]
  },
  {
   "cell_type": "code",
   "execution_count": 3,
   "metadata": {},
   "outputs": [
    {
     "name": "stdout",
     "output_type": "stream",
     "text": [
      "<class 'pyspark.rdd.RDD'>\n"
     ]
    }
   ],
   "source": [
    "dframe=sc.textFile(\"data.txt\")\n",
    "data1 =np.loadtxt(\"data.txt\")\n",
    "data=sc.parallelize(data1)\n",
    "print(type(data))\n",
    "#print(data.take(5)[0])"
   ]
  },
  {
   "cell_type": "code",
   "execution_count": 5,
   "metadata": {},
   "outputs": [],
   "source": [
    "def euclidean_distance(u,v):\n",
    "    return np.sqrt(np.sum((u-v)**2))\n",
    "\n",
    "def manhattan_distance(u,v):\n",
    "    return np.sum(abs(u-v))"
   ]
  },
  {
   "cell_type": "code",
   "execution_count": 6,
   "metadata": {},
   "outputs": [],
   "source": [
    "#c2=sc.textFile(\"data.txt\")\n",
    "c1 =np.loadtxt(\"c1.txt\")\n",
    "#c1=sc.parallelize(c1)\n",
    "#print(c1.take(1)[0])\n",
    "c2=np.loadtxt(\"c2.txt\")"
   ]
  },
  {
   "cell_type": "code",
   "execution_count": 7,
   "metadata": {},
   "outputs": [],
   "source": [
    "def get_centroid(point,c1,distance):\n",
    "    #print(\"hi\")\n",
    "    index=-1\n",
    "    #cost_list=[]\n",
    "    #f=open('cost.txt','a')\n",
    "    closest_point=sys.maxsize\n",
    "    if distance==True:\n",
    "        for i in range(len(c1)):\n",
    "            dist_cal=euclidean_distance(point,c1[i])\n",
    "            if(dist_cal<closest_point):\n",
    "                closest_point=dist_cal\n",
    "                index=i\n",
    "        return [index,closest_point]\n",
    "    elif distance==False:\n",
    "        for i in range(len(c1)):\n",
    "            dist_cal=manhattan_distance(point,c1[i])\n",
    "            if(dist_cal<closest_point):\n",
    "                closest_point=dist_cal\n",
    "                index=i\n",
    "        return [index,closest_point]"
   ]
  },
  {
   "cell_type": "code",
   "execution_count": 8,
   "metadata": {},
   "outputs": [],
   "source": [
    "def kmeans(data,centroids,iterations,euclidean_distance):\n",
    "    co_list=[]\n",
    "    for i in range(iterations):\n",
    "        v=data.map(lambda x : [get_centroid(x,centroids,euclidean_distance),x])\n",
    "        val=v.map(lambda x : (x[0][0],x[1]))\n",
    "        if(euclidean_distance==True):\n",
    "            p=v.map(lambda x : x[0][1]**2).sum()\n",
    "            print(\"iteration\",i,\":\",p)\n",
    "        elif(euclidean_distance==False):\n",
    "            p=v.map(lambda x : x[0][1]).sum()\n",
    "            print(\"iteration\",i,\":\",p)\n",
    "        co_list.append(p.sum())\n",
    "        cen=val.groupByKey().sortByKey().mapValues(list)\n",
    "        c=cen.map(lambda x: np.average(x[1],axis =0))\n",
    "        centroids = c.collect()\n",
    "        #print(centroids)\n",
    "    return co_list"
   ]
  },
  {
   "cell_type": "code",
   "execution_count": 10,
   "metadata": {},
   "outputs": [
    {
     "name": "stdout",
     "output_type": "stream",
     "text": [
      "iteration 0 : 623660345.3064113\n",
      "iteration 1 : 509862908.29754543\n",
      "iteration 2 : 485480681.8720078\n",
      "iteration 3 : 463997011.685013\n",
      "iteration 4 : 460969266.57299644\n",
      "iteration 5 : 460537847.98276776\n",
      "iteration 6 : 460313099.6535457\n",
      "iteration 7 : 460003523.88940746\n",
      "iteration 8 : 459570539.3177351\n",
      "iteration 9 : 459021103.3422907\n",
      "iteration 10 : 458490656.191981\n",
      "iteration 11 : 457944232.5879743\n",
      "iteration 12 : 457558005.1986763\n",
      "iteration 13 : 457290136.35230225\n",
      "iteration 14 : 457050555.0595627\n",
      "iteration 15 : 456892235.61535454\n",
      "iteration 16 : 456703630.7370333\n",
      "iteration 17 : 456404203.01897496\n",
      "iteration 18 : 456177800.5419933\n",
      "iteration 19 : 455986871.0273458\n"
     ]
    }
   ],
   "source": [
    "co_list=kmeans(data,c1,20,True)"
   ]
  },
  {
   "cell_type": "code",
   "execution_count": 11,
   "metadata": {},
   "outputs": [],
   "source": [
    "x=[i for i in range(20)]"
   ]
  },
  {
   "cell_type": "code",
   "execution_count": 12,
   "metadata": {},
   "outputs": [
    {
     "data": {
      "text/plain": [
       "[0, 1, 2, 3, 4, 5, 6, 7, 8, 9, 10, 11, 12, 13, 14, 15, 16, 17, 18, 19]"
      ]
     },
     "execution_count": 12,
     "metadata": {},
     "output_type": "execute_result"
    }
   ],
   "source": [
    "x"
   ]
  },
  {
   "cell_type": "code",
   "execution_count": 13,
   "metadata": {},
   "outputs": [
    {
     "data": {
      "image/png": "[encoded data removed]",
      "text/plain": [
       "<Figure size 432x288 with 1 Axes>"
      ]
     },
     "metadata": {
      "needs_background": "light"
     },
     "output_type": "display_data"
    }
   ],
   "source": [
    "plt.plot(x,co_list)\n",
    "plt.title(\"cost vs x for c1.txt euclidean\")\n",
    "plt.xlabel('x')\n",
    "plt.ylabel('cost')\n",
    "plt.show()"
   ]
  },
  {
   "cell_type": "code",
   "execution_count": 15,
   "metadata": {},
   "outputs": [
    {
     "name": "stdout",
     "output_type": "stream",
     "text": [
      "iteration 0 : 438747790.02791715\n",
      "iteration 1 : 249803933.62600312\n",
      "iteration 2 : 194494814.40631253\n",
      "iteration 3 : 169804841.45154306\n",
      "iteration 4 : 156295748.80627602\n",
      "iteration 5 : 149094208.1089661\n",
      "iteration 6 : 142508531.6196153\n",
      "iteration 7 : 132303869.40652972\n",
      "iteration 8 : 117170969.83719075\n",
      "iteration 9 : 108547377.17857005\n",
      "iteration 10 : 102237203.317996\n",
      "iteration 11 : 98278015.74975672\n",
      "iteration 12 : 95630226.12177402\n",
      "iteration 13 : 93793314.05119297\n",
      "iteration 14 : 92377131.96821079\n",
      "iteration 15 : 91541606.25423886\n",
      "iteration 16 : 91045573.83042456\n",
      "iteration 17 : 90752240.101408\n",
      "iteration 18 : 90470170.18122728\n",
      "iteration 19 : 90216416.17563125\n"
     ]
    }
   ],
   "source": [
    "co_list=kmeans(data,c2,20,True)"
   ]
  },
  {
   "cell_type": "code",
   "execution_count": 16,
   "metadata": {},
   "outputs": [
    {
     "data": {
      "image/png": "[encoded data removed]",
      "text/plain": [
       "<Figure size 432x288 with 1 Axes>"
      ]
     },
     "metadata": {
      "needs_background": "light"
     },
     "output_type": "display_data"
    }
   ],
   "source": [
    "plt.plot(x,co_list)\n",
    "plt.title(\"cost vs x for c2.txt euclidean\")\n",
    "plt.xlabel('x')\n",
    "plt.ylabel('cost')\n",
    "plt.show()"
   ]
  },
  {
   "cell_type": "code",
   "execution_count": 17,
   "metadata": {},
   "outputs": [
    {
     "name": "stdout",
     "output_type": "stream",
     "text": [
      "iteration 0 : 550117.1420000001\n",
      "iteration 1 : 464829.2684039454\n",
      "iteration 2 : 470934.15384668065\n",
      "iteration 3 : 483874.8162850936\n",
      "iteration 4 : 489234.23478834564\n",
      "iteration 5 : 487664.69262679026\n",
      "iteration 6 : 483718.66592851386\n",
      "iteration 7 : 475337.9476330569\n",
      "iteration 8 : 474871.9665496558\n",
      "iteration 9 : 457244.78974175284\n",
      "iteration 10 : 447493.1956040524\n",
      "iteration 11 : 450891.8358047706\n",
      "iteration 12 : 451232.5774756956\n",
      "iteration 13 : 451860.12588546483\n",
      "iteration 14 : 451567.22358914895\n",
      "iteration 15 : 452710.05209994304\n",
      "iteration 16 : 453078.2269618496\n",
      "iteration 17 : 450646.13556209486\n",
      "iteration 18 : 450419.9701134353\n",
      "iteration 19 : 449009.59037188475\n"
     ]
    }
   ],
   "source": [
    "co_list=kmeans(data,c1,20,False)"
   ]
  },
  {
   "cell_type": "code",
   "execution_count": 18,
   "metadata": {},
   "outputs": [
    {
     "data": {
      "image/png": "[encoded data removed]",
      "text/plain": [
       "<Figure size 432x288 with 1 Axes>"
      ]
     },
     "metadata": {
      "needs_background": "light"
     },
     "output_type": "display_data"
    }
   ],
   "source": [
    "plt.plot(x,co_list)\n",
    "plt.title(\"cost vs x for c1.txt manhattan\")\n",
    "plt.xlabel('x')\n",
    "plt.ylabel('cost')\n",
    "plt.show()"
   ]
  },
  {
   "cell_type": "code",
   "execution_count": 19,
   "metadata": {},
   "outputs": [
    {
     "name": "stdout",
     "output_type": "stream",
     "text": [
      "iteration 0 : 1433739.310000001\n",
      "iteration 1 : 1084488.776964879\n",
      "iteration 2 : 973431.7146620422\n",
      "iteration 3 : 895934.5925630715\n",
      "iteration 4 : 865128.3352940823\n",
      "iteration 5 : 845846.6470313487\n",
      "iteration 6 : 827219.582756126\n",
      "iteration 7 : 803590.3456011103\n",
      "iteration 8 : 756039.517276121\n",
      "iteration 9 : 717332.9025432302\n",
      "iteration 10 : 694587.9252526877\n",
      "iteration 11 : 684444.5019967912\n",
      "iteration 12 : 674574.747547856\n",
      "iteration 13 : 667409.4699160272\n",
      "iteration 14 : 663556.627821503\n",
      "iteration 15 : 660162.7772287573\n",
      "iteration 16 : 656041.3222947128\n",
      "iteration 17 : 653036.7540731605\n",
      "iteration 18 : 651112.4262522728\n",
      "iteration 19 : 649689.0131843532\n"
     ]
    }
   ],
   "source": [
    "co_list=kmeans(data,c2,20,False)"
   ]
  },
  {
   "cell_type": "code",
   "execution_count": 20,
   "metadata": {},
   "outputs": [
    {
     "data": {
      "image/png": "[encoded data removed]",
      "text/plain": [
       "<Figure size 432x288 with 1 Axes>"
      ]
     },
     "metadata": {
      "needs_background": "light"
     },
     "output_type": "display_data"
    }
   ],
   "source": [
    "plt.plot(x,co_list)\n",
    "plt.title(\"cost vs x for c2.txt manhattan\")\n",
    "plt.xlabel('x')\n",
    "plt.ylabel('cost')\n",
    "plt.show()"
   ]
  },
  {
   "cell_type": "code",
   "execution_count": null,
   "metadata": {},
   "outputs": [],
   "source": []
  },
  {
   "cell_type": "code",
   "execution_count": null,
   "metadata": {},
   "outputs": [],
   "source": []
  },
  {
   "cell_type": "code",
   "execution_count": null,
   "metadata": {},
   "outputs": [],
   "source": []
  },
  {
   "cell_type": "code",
   "execution_count": null,
   "metadata": {},
   "outputs": [],
   "source": []
  }
 ],
 "metadata": {
  "kernelspec": {
   "display_name": "Python 3",
   "language": "python",
   "name": "python3"
  },
  "language_info": {
   "codemirror_mode": {
    "name": "ipython",
    "version": 3
   },
   "file_extension": ".py",
   "mimetype": "text/x-python",
   "name": "python",
   "nbconvert_exporter": "python",
   "pygments_lexer": "ipython3",
   "version": "3.7.6"
  }
 },
 "nbformat": 4,
 "nbformat_minor": 2
}
